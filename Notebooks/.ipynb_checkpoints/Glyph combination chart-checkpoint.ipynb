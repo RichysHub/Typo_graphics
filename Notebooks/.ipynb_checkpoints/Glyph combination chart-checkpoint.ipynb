{
 "cells": [
  {
   "cell_type": "code",
   "execution_count": 12,
   "metadata": {
    "collapsed": false
   },
   "outputs": [],
   "source": [
    "import os\n",
    "from PIL import Image\n",
    "from PIL import ImageChops\n",
    "\n",
    "GLYPH_DIR = 'E:/Users/Richard/Documents/One off mini projects/Typewriting/Typearter/Glyphs'\n",
    "\n",
    "class glyph:\n",
    "    def __init__(self, filename):\n",
    "        self.filename = filename\n",
    "        self.name = filename[:-4]\n",
    "        self.image = Image.open(os.path.join(GLYPH_DIR, filename))\n",
    "    def __str__(self):\n",
    "        return self.name\n",
    "    def __repr__(self):\n",
    "        return 'glyph({})'.format(self.filename)\n",
    "    \n",
    "glyphs = []\n",
    "    \n",
    "for filename in os.listdir(GLYPH_DIR):\n",
    "    if filename.endswith(\".png\"):\n",
    "        glyph_ = glyph(filename)\n",
    "        glyphs.append(glyph_)\n",
    "        \n",
    "output = Image.new(\"L\", ((len(glyphs)+1)* 25, (len(glyphs)+1)* 48))\n",
    "\n",
    "w = 25\n",
    "h = 48\n",
    "\n",
    "for i, glyph_ in enumerate(glyphs):\n",
    "    for j, _ in enumerate(glyphs):\n",
    "        x = w * i + w\n",
    "        y = h * j\n",
    "    \n",
    "        output.paste(glyph_.image, (x, y, x + w, y + h))\n",
    "    \n",
    "output.show()"
   ]
  },
  {
   "cell_type": "code",
   "execution_count": null,
   "metadata": {
    "collapsed": true
   },
   "outputs": [],
   "source": []
  }
 ],
 "metadata": {
  "anaconda-cloud": {},
  "kernelspec": {
   "display_name": "Python [conda root]",
   "language": "python",
   "name": "conda-root-py"
  },
  "language_info": {
   "codemirror_mode": {
    "name": "ipython",
    "version": 3
   },
   "file_extension": ".py",
   "mimetype": "text/x-python",
   "name": "python",
   "nbconvert_exporter": "python",
   "pygments_lexer": "ipython3",
   "version": "3.5.2"
  }
 },
 "nbformat": 4,
 "nbformat_minor": 1
}
